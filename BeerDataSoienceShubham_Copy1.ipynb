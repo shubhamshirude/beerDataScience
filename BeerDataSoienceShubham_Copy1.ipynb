{
  "nbformat": 4,
  "nbformat_minor": 0,
  "metadata": {
    "kernelspec": {
      "display_name": "Python 3",
      "language": "python",
      "name": "python3"
    },
    "colab": {
      "name": "BeerDataSoienceShubham-Copy1.ipynb",
      "provenance": [],
      "collapsed_sections": []
    }
  },
  "cells": [
    {
      "cell_type": "markdown",
      "metadata": {
        "id": "RUMz8ki45ivS"
      },
      "source": [
        "# Import required packages"
      ]
    },
    {
      "cell_type": "code",
      "metadata": {
        "colab": {
          "base_uri": "https://localhost:8080/"
        },
        "id": "6QSTDOxZ5ivY",
        "outputId": "d6a8d668-5998-4690-bffb-93fb83050a7d"
      },
      "source": [
        "import pandas as pd\n",
        "import numpy as np\n",
        "import csv\n",
        "\n",
        "from matplotlib import pyplot as plt\n",
        "from sklearn.ensemble import RandomForestRegressor\n",
        "from sklearn.metrics.pairwise import cosine_similarity\n",
        "\n",
        "from textblob import TextBlob\n",
        "from gensim.models import Word2Vec\n",
        "import warnings\n",
        "from sklearn.feature_extraction.text import TfidfVectorizer\n",
        "\n",
        "import nltk\n",
        "import string\n",
        "from nltk.corpus import wordnet\n",
        "from nltk.corpus import stopwords\n",
        "nltk.download('stopwords')\n",
        "from nltk.tokenize import word_tokenize\n",
        "from nltk.stem import WordNetLemmatizer"
      ],
      "execution_count": 3,
      "outputs": [
        {
          "output_type": "stream",
          "text": [
            "[nltk_data] Downloading package stopwords to /root/nltk_data...\n",
            "[nltk_data]   Unzipping corpora/stopwords.zip.\n"
          ],
          "name": "stdout"
        }
      ]
    },
    {
      "cell_type": "markdown",
      "metadata": {
        "id": "JWmfx4uW5ivc"
      },
      "source": [
        "#Read CSV file"
      ]
    },
    {
      "cell_type": "code",
      "metadata": {
        "colab": {
          "base_uri": "https://localhost:8080/"
        },
        "id": "nXmqrnx0RaUt",
        "outputId": "2275f5e1-ab98-4044-c949-70ec2058e738"
      },
      "source": [
        "from google.colab import drive\n",
        "drive.mount('/content/drive')"
      ],
      "execution_count": 6,
      "outputs": [
        {
          "output_type": "stream",
          "text": [
            "Mounted at /content/drive\n"
          ],
          "name": "stdout"
        }
      ]
    },
    {
      "cell_type": "code",
      "metadata": {
        "colab": {
          "base_uri": "https://localhost:8080/"
        },
        "id": "1Y837zk3R5pe",
        "outputId": "71d57b8f-695b-4c60-d6c8-770858a97a95"
      },
      "source": [
        "# importing required modules\n",
        "from zipfile import ZipFile\n",
        "  \n",
        "# specifying the zip file name\n",
        "file_name = \"/content/drive/MyDrive/Colab Notebooks/BeerDataScienceProject.zip\"\n",
        "  \n",
        "# opening the zip file in READ mode\n",
        "with ZipFile(file_name, 'r') as zip:\n",
        "    # printing all the contents of the zip file\n",
        "    zip.printdir()\n",
        "  \n",
        "    # extracting all the files\n",
        "    print('Extracting all the files now...')\n",
        "    zip.extractall()\n",
        "    print('Done!')"
      ],
      "execution_count": 7,
      "outputs": [
        {
          "output_type": "stream",
          "text": [
            "File Name                                             Modified             Size\n",
            "BeerDataScienceProject.csv                     2019-10-18 14:27:06    414885425\n",
            "Extracting all the files now...\n",
            "Done!\n"
          ],
          "name": "stdout"
        }
      ]
    },
    {
      "cell_type": "code",
      "metadata": {
        "id": "VGEOSKRs5ivd"
      },
      "source": [
        "csv_file_path = r'/content/BeerDataScienceProject.csv'\n"
      ],
      "execution_count": 4,
      "outputs": []
    },
    {
      "cell_type": "code",
      "metadata": {
        "id": "LefjQ3CO5ivf"
      },
      "source": [
        "beer_data_df = pd.read_csv(csv_file_path,encoding='latin-1')\n",
        "#,encoding='latin-1'\n",
        "# Drop Null Values from all columns\n",
        "beer_data_df = beer_data_df.dropna()"
      ],
      "execution_count": 8,
      "outputs": []
    },
    {
      "cell_type": "code",
      "metadata": {
        "colab": {
          "base_uri": "https://localhost:8080/"
        },
        "id": "bSuKJutm5ivg",
        "outputId": "57475f42-0c6a-4b74-a9fc-180037b45443"
      },
      "source": [
        "beer_data_df.shape"
      ],
      "execution_count": 9,
      "outputs": [
        {
          "output_type": "execute_result",
          "data": {
            "text/plain": [
              "(508358, 13)"
            ]
          },
          "metadata": {},
          "execution_count": 9
        }
      ]
    },
    {
      "cell_type": "markdown",
      "metadata": {
        "id": "al9sPwKG5ivj"
      },
      "source": [
        "# 1.\tRank top 3 Breweries which produce the strongest beers?"
      ]
    },
    {
      "cell_type": "code",
      "metadata": {
        "colab": {
          "base_uri": "https://localhost:8080/",
          "height": 143
        },
        "id": "sqhVi8Kj5ivk",
        "outputId": "8d00f51f-8dfb-4f60-acc4-a15cd7842fb0"
      },
      "source": [
        "beer_id_df = beer_data_df.groupby(['beer_brewerId'])['beer_ABV'].mean()\n",
        "beer_id_df = pd.DataFrame(beer_id_df.reset_index())\n",
        "beer_id_df.columns = ['beer_brewerId','beer_abv_mean']\n",
        "beer_id_df.sort_values(by=['beer_abv_mean'], ascending=False).head(3)"
      ],
      "execution_count": 10,
      "outputs": [
        {
          "output_type": "execute_result",
          "data": {
            "text/html": [
              "<div>\n",
              "<style scoped>\n",
              "    .dataframe tbody tr th:only-of-type {\n",
              "        vertical-align: middle;\n",
              "    }\n",
              "\n",
              "    .dataframe tbody tr th {\n",
              "        vertical-align: top;\n",
              "    }\n",
              "\n",
              "    .dataframe thead th {\n",
              "        text-align: right;\n",
              "    }\n",
              "</style>\n",
              "<table border=\"1\" class=\"dataframe\">\n",
              "  <thead>\n",
              "    <tr style=\"text-align: right;\">\n",
              "      <th></th>\n",
              "      <th>beer_brewerId</th>\n",
              "      <th>beer_abv_mean</th>\n",
              "    </tr>\n",
              "  </thead>\n",
              "  <tbody>\n",
              "    <tr>\n",
              "      <th>699</th>\n",
              "      <td>6513</td>\n",
              "      <td>19.228824</td>\n",
              "    </tr>\n",
              "    <tr>\n",
              "      <th>165</th>\n",
              "      <td>736</td>\n",
              "      <td>13.750000</td>\n",
              "    </tr>\n",
              "    <tr>\n",
              "      <th>1466</th>\n",
              "      <td>24215</td>\n",
              "      <td>12.466667</td>\n",
              "    </tr>\n",
              "  </tbody>\n",
              "</table>\n",
              "</div>"
            ],
            "text/plain": [
              "      beer_brewerId  beer_abv_mean\n",
              "699            6513      19.228824\n",
              "165             736      13.750000\n",
              "1466          24215      12.466667"
            ]
          },
          "metadata": {},
          "execution_count": 10
        }
      ]
    },
    {
      "cell_type": "markdown",
      "metadata": {
        "id": "8fS7Hhhz5ivn"
      },
      "source": [
        "# 2.\tWhich year did beers enjoy the highest ratings? "
      ]
    },
    {
      "cell_type": "code",
      "metadata": {
        "colab": {
          "base_uri": "https://localhost:8080/",
          "height": 35
        },
        "id": "UQqs1Cr_5ivo",
        "outputId": "ed2427b6-e7c0-4ac7-8d94-d38d8e6a74db"
      },
      "source": [
        "beer_data_df['review_year'] = pd.DatetimeIndex(pd.to_datetime(beer_data_df['review_time'], unit='s')).year\n",
        "beer_data_df['avg review'] = beer_data_df[['review_appearance', 'review_palette','review_taste','review_aroma','review_overall']].mean(axis=1)\n",
        "highest_ratings_by_year_df = beer_data_df.groupby(['review_year'])['avg review'].mean()\n",
        "highest_ratings_by_year_df = pd.DataFrame(highest_ratings_by_year_df.reset_index()).sort_values(by=['avg review'], ascending=False)\n",
        "highest_ratings_by_year_df.head(1)['review_year'].to_string(index=False)"
      ],
      "execution_count": 11,
      "outputs": [
        {
          "output_type": "execute_result",
          "data": {
            "application/vnd.google.colaboratory.intrinsic+json": {
              "type": "string"
            },
            "text/plain": [
              "' 2000'"
            ]
          },
          "metadata": {},
          "execution_count": 11
        }
      ]
    },
    {
      "cell_type": "markdown",
      "metadata": {
        "id": "EHeyTUck5ivr"
      },
      "source": [
        "# 3.\tBased on the user’s ratings which factors are important among taste, aroma, appearance, and palette?"
      ]
    },
    {
      "cell_type": "code",
      "metadata": {
        "colab": {
          "base_uri": "https://localhost:8080/",
          "height": 122
        },
        "id": "3xYkfvCp5ivs",
        "outputId": "462e83cd-0fa1-47e1-d256-c71dd4bb6cae"
      },
      "source": [
        "rating_corr = beer_data_df.corr()['review_overall'][['review_palette','review_taste','review_aroma','review_appearance']]\n",
        "rating_corr = pd.DataFrame(rating_corr.reset_index())\n",
        "rating_corr\n",
        "print(rating_corr.sort_values(by=['review_overall'], ascending=False))\n",
        "rating_corr.sort_values(by=['review_overall'], ascending=False).head(1)['index'].to_string(index=False)\n"
      ],
      "execution_count": 12,
      "outputs": [
        {
          "output_type": "stream",
          "text": [
            "               index  review_overall\n",
            "2       review_aroma        0.780310\n",
            "1       review_taste        0.689276\n",
            "0     review_palette        0.598048\n",
            "3  review_appearance        0.483091\n"
          ],
          "name": "stdout"
        },
        {
          "output_type": "execute_result",
          "data": {
            "application/vnd.google.colaboratory.intrinsic+json": {
              "type": "string"
            },
            "text/plain": [
              "' review_aroma'"
            ]
          },
          "metadata": {},
          "execution_count": 12
        }
      ]
    },
    {
      "cell_type": "code",
      "metadata": {
        "colab": {
          "base_uri": "https://localhost:8080/",
          "height": 522
        },
        "id": "6YR005HS5ivt",
        "outputId": "b8a5899a-8212-4565-f676-2354018a54e1"
      },
      "source": [
        "plt.rcParams.update({'figure.figsize': (12.0, 8.0)})\n",
        "plt.rcParams.update({'font.size': 14})\n",
        "\n",
        "X = beer_data_df[['review_palette','review_taste','review_aroma','review_appearance']]\n",
        "y = beer_data_df['review_overall'].values\n",
        "\n",
        "rf = RandomForestRegressor(n_estimators=100)\n",
        "rf.fit(X, y)\n",
        "\n",
        "print(rf.feature_importances_)\n",
        "\n",
        "plt.barh(['review_palette','review_taste','review_aroma','review_appearance'], rf.feature_importances_)\n"
      ],
      "execution_count": 13,
      "outputs": [
        {
          "output_type": "stream",
          "text": [
            "[0.00880608 0.05623416 0.92500412 0.00995564]\n"
          ],
          "name": "stdout"
        },
        {
          "output_type": "execute_result",
          "data": {
            "text/plain": [
              "<BarContainer object of 4 artists>"
            ]
          },
          "metadata": {},
          "execution_count": 13
        },
        {
          "output_type": "display_data",
          "data": {
            "image/png": "[encoded data removed]",
            "text/plain": [
              "<Figure size 864x576 with 1 Axes>"
            ]
          },
          "metadata": {
            "needs_background": "light"
          }
        }
      ]
    },
    {
      "cell_type": "markdown",
      "metadata": {
        "id": "tgiME3JF5ivv"
      },
      "source": [
        "# 4.\tIf you were to recommend 3 beers to your friends based on this data which ones will you recommend?"
      ]
    },
    {
      "cell_type": "code",
      "metadata": {
        "colab": {
          "base_uri": "https://localhost:8080/"
        },
        "id": "N7C5wFc85ivv",
        "outputId": "082ad07f-a274-488e-d4e3-f9d5328457b5"
      },
      "source": [
        "rec_beer_id_df = beer_data_df.groupby(['beer_name'])['review_overall'].mean()\n",
        "rec_beer_id_df = pd.DataFrame(rec_beer_id_df.reset_index())\n",
        "rec_beer_id_df.columns = ['beer_name','review_overall_mean']\n",
        "rec_beer_id_df = rec_beer_id_df.sort_values(by=['review_overall_mean'], ascending=False).head(3)['beer_name']#.to_string(index=False)\n",
        "rec_beer_id_df"
      ],
      "execution_count": 14,
      "outputs": [
        {
          "output_type": "execute_result",
          "data": {
            "text/plain": [
              "10582    Rural People's Common Lager\n",
              "5989                          Hop It\n",
              "2428          Bubba Imperial Pilsner\n",
              "Name: beer_name, dtype: object"
            ]
          },
          "metadata": {},
          "execution_count": 14
        }
      ]
    },
    {
      "cell_type": "markdown",
      "metadata": {
        "id": "6CW9gz6u5ivw"
      },
      "source": [
        "# 5.\tWhich Beer style seems to be the favorite based on reviews written by users? "
      ]
    },
    {
      "cell_type": "code",
      "metadata": {
        "id": "G5mDbzKY5ivx"
      },
      "source": [
        "\n",
        "\n",
        "def get_wordnet_pos(word):\n",
        "    \"\"\"Map POS tag to first character lemmatize() accepts\"\"\"\n",
        "    tag = nltk.pos_tag([word])[0][1][0].upper()\n",
        "    tag_dict = {\"J\": wordnet.ADJ,\n",
        "                \"N\": wordnet.NOUN,\n",
        "                \"V\": wordnet.VERB,\n",
        "                \"R\": wordnet.ADV}\n",
        "\n",
        "    return tag_dict.get(tag, wordnet.NOUN)\n",
        "\n",
        "def cleansingText(reviewTxt):\n",
        "    sentence = reviewTxt.lower()\n",
        "    return sentence\n",
        "#     lemmatizer = WordNetLemmatizer()\n",
        "#     cleantxt = (\" \".join([lemmatizer.lemmatize(w, get_wordnet_pos(w)) for w in nltk.word_tokenize(sentence) if (w not in string.punctuation) and (w not in stopwords.words())]))\n",
        "#     return cleantxt\n"
      ],
      "execution_count": 15,
      "outputs": []
    },
    {
      "cell_type": "code",
      "metadata": {
        "colab": {
          "base_uri": "https://localhost:8080/"
        },
        "id": "vlOEv3uC5ivx",
        "outputId": "bdca562d-cc69-4b33-e8b2-2da9ce2653d2"
      },
      "source": [
        "print(beer_data_df.shape)\n",
        "\n",
        "#Considering review text where overall rating was above 4 stars\n",
        "four_star_rated_beer_df = beer_data_df[beer_data_df['review_overall'] >= 4]\n",
        "print(four_star_rated_beer_df.shape)\n",
        "\n",
        "#Clean Text\n",
        "four_star_rated_beer_df['clean_review_text'] = four_star_rated_beer_df['review_text'].apply(lambda x: cleansingText(x))\n",
        "\n"
      ],
      "execution_count": 16,
      "outputs": [
        {
          "output_type": "stream",
          "text": [
            "(508358, 15)\n",
            "(327660, 15)\n"
          ],
          "name": "stdout"
        },
        {
          "output_type": "stream",
          "text": [
            "/usr/local/lib/python3.7/dist-packages/ipykernel_launcher.py:8: SettingWithCopyWarning: \n",
            "A value is trying to be set on a copy of a slice from a DataFrame.\n",
            "Try using .loc[row_indexer,col_indexer] = value instead\n",
            "\n",
            "See the caveats in the documentation: https://pandas.pydata.org/pandas-docs/stable/user_guide/indexing.html#returning-a-view-versus-a-copy\n",
            "  \n"
          ],
          "name": "stderr"
        }
      ]
    },
    {
      "cell_type": "code",
      "metadata": {
        "colab": {
          "base_uri": "https://localhost:8080/"
        },
        "id": "anmmM9pq5ivy",
        "outputId": "ff1707dc-9279-4426-8489-7d274bb0a6ad"
      },
      "source": [
        "\n",
        "#Computing polarity score using TextBlob\n",
        "four_star_rated_beer_df['polarity_score'] = four_star_rated_beer_df['clean_review_text'].apply(lambda x: TextBlob(x).sentiment[0])\n"
      ],
      "execution_count": 17,
      "outputs": [
        {
          "output_type": "stream",
          "text": [
            "/usr/local/lib/python3.7/dist-packages/ipykernel_launcher.py:3: SettingWithCopyWarning: \n",
            "A value is trying to be set on a copy of a slice from a DataFrame.\n",
            "Try using .loc[row_indexer,col_indexer] = value instead\n",
            "\n",
            "See the caveats in the documentation: https://pandas.pydata.org/pandas-docs/stable/user_guide/indexing.html#returning-a-view-versus-a-copy\n",
            "  This is separate from the ipykernel package so we can avoid doing imports until\n"
          ],
          "name": "stderr"
        }
      ]
    },
    {
      "cell_type": "code",
      "metadata": {
        "colab": {
          "base_uri": "https://localhost:8080/",
          "height": 143
        },
        "id": "mSQeiMqf5ivz",
        "outputId": "64392492-4faa-4fc1-814e-828c964be778"
      },
      "source": [
        "#Compute average polarity by each beer_style\n",
        "beer_style_rec = four_star_rated_beer_df.groupby(['beer_style'])['polarity_score'].mean()\n",
        "beer_style_rec = pd.DataFrame(beer_style_rec.reset_index())\n",
        "beer_style_rec.columns = ['beer_style','polarity_score']\n",
        "beer_style_rec.sort_values(by=['polarity_score'], ascending=False).head(3)"
      ],
      "execution_count": 18,
      "outputs": [
        {
          "output_type": "execute_result",
          "data": {
            "text/html": [
              "<div>\n",
              "<style scoped>\n",
              "    .dataframe tbody tr th:only-of-type {\n",
              "        vertical-align: middle;\n",
              "    }\n",
              "\n",
              "    .dataframe tbody tr th {\n",
              "        vertical-align: top;\n",
              "    }\n",
              "\n",
              "    .dataframe thead th {\n",
              "        text-align: right;\n",
              "    }\n",
              "</style>\n",
              "<table border=\"1\" class=\"dataframe\">\n",
              "  <thead>\n",
              "    <tr style=\"text-align: right;\">\n",
              "      <th></th>\n",
              "      <th>beer_style</th>\n",
              "      <th>polarity_score</th>\n",
              "    </tr>\n",
              "  </thead>\n",
              "  <tbody>\n",
              "    <tr>\n",
              "      <th>99</th>\n",
              "      <td>Vienna Lager</td>\n",
              "      <td>0.262385</td>\n",
              "    </tr>\n",
              "    <tr>\n",
              "      <th>38</th>\n",
              "      <td>Dortmunder / Export Lager</td>\n",
              "      <td>0.259825</td>\n",
              "    </tr>\n",
              "    <tr>\n",
              "      <th>36</th>\n",
              "      <td>Czech Pilsener</td>\n",
              "      <td>0.241622</td>\n",
              "    </tr>\n",
              "  </tbody>\n",
              "</table>\n",
              "</div>"
            ],
            "text/plain": [
              "                   beer_style  polarity_score\n",
              "99               Vienna Lager        0.262385\n",
              "38  Dortmunder / Export Lager        0.259825\n",
              "36             Czech Pilsener        0.241622"
            ]
          },
          "metadata": {},
          "execution_count": 18
        }
      ]
    },
    {
      "cell_type": "markdown",
      "metadata": {
        "id": "PYkWjAJ85ivz"
      },
      "source": [
        "# 6.\tHow does written review compare to overall review score for the beer styles?"
      ]
    },
    {
      "cell_type": "code",
      "metadata": {
        "colab": {
          "base_uri": "https://localhost:8080/",
          "height": 261
        },
        "id": "VaxoUynr5iv0",
        "outputId": "207c9fb0-38ab-4886-bd0b-b1d727d6b678"
      },
      "source": [
        "reviews_all = four_star_rated_beer_df.groupby(['beer_style'])['polarity_score','review_overall'].mean()\n",
        "review_score_beerstyle = pd.DataFrame(reviews_all.reset_index()).sort_values(['polarity_score','review_overall'], ascending=[False,False])\n",
        "review_score_beerstyle.head()"
      ],
      "execution_count": 19,
      "outputs": [
        {
          "output_type": "stream",
          "text": [
            "/usr/local/lib/python3.7/dist-packages/ipykernel_launcher.py:5: FutureWarning: Indexing with multiple keys (implicitly converted to a tuple of keys) will be deprecated, use a list instead.\n",
            "  \"\"\"\n"
          ],
          "name": "stderr"
        },
        {
          "output_type": "execute_result",
          "data": {
            "text/html": [
              "<div>\n",
              "<style scoped>\n",
              "    .dataframe tbody tr th:only-of-type {\n",
              "        vertical-align: middle;\n",
              "    }\n",
              "\n",
              "    .dataframe tbody tr th {\n",
              "        vertical-align: top;\n",
              "    }\n",
              "\n",
              "    .dataframe thead th {\n",
              "        text-align: right;\n",
              "    }\n",
              "</style>\n",
              "<table border=\"1\" class=\"dataframe\">\n",
              "  <thead>\n",
              "    <tr style=\"text-align: right;\">\n",
              "      <th></th>\n",
              "      <th>beer_style</th>\n",
              "      <th>polarity_score</th>\n",
              "      <th>review_overall</th>\n",
              "    </tr>\n",
              "  </thead>\n",
              "  <tbody>\n",
              "    <tr>\n",
              "      <th>99</th>\n",
              "      <td>Vienna Lager</td>\n",
              "      <td>0.262385</td>\n",
              "      <td>4.277483</td>\n",
              "    </tr>\n",
              "    <tr>\n",
              "      <th>38</th>\n",
              "      <td>Dortmunder / Export Lager</td>\n",
              "      <td>0.259825</td>\n",
              "      <td>4.358124</td>\n",
              "    </tr>\n",
              "    <tr>\n",
              "      <th>36</th>\n",
              "      <td>Czech Pilsener</td>\n",
              "      <td>0.241622</td>\n",
              "      <td>4.276327</td>\n",
              "    </tr>\n",
              "    <tr>\n",
              "      <th>82</th>\n",
              "      <td>Märzen / Oktoberfest</td>\n",
              "      <td>0.237593</td>\n",
              "      <td>4.218854</td>\n",
              "    </tr>\n",
              "    <tr>\n",
              "      <th>85</th>\n",
              "      <td>Pumpkin Ale</td>\n",
              "      <td>0.234756</td>\n",
              "      <td>4.205292</td>\n",
              "    </tr>\n",
              "  </tbody>\n",
              "</table>\n",
              "</div>"
            ],
            "text/plain": [
              "                   beer_style  polarity_score  review_overall\n",
              "99               Vienna Lager        0.262385        4.277483\n",
              "38  Dortmunder / Export Lager        0.259825        4.358124\n",
              "36             Czech Pilsener        0.241622        4.276327\n",
              "82       Märzen / Oktoberfest        0.237593        4.218854\n",
              "85                Pumpkin Ale        0.234756        4.205292"
            ]
          },
          "metadata": {},
          "execution_count": 19
        }
      ]
    },
    {
      "cell_type": "markdown",
      "metadata": {
        "id": "64bZvdky5iv1"
      },
      "source": [
        "# 7.\tHow do find similar beer drinkers by using written reviews only?   "
      ]
    },
    {
      "cell_type": "code",
      "metadata": {
        "id": "_24yFe8vVaNN"
      },
      "source": [
        "def cleanseText(text):\n",
        "    ''' Pre process and convert texts to a list of words '''\n",
        "    import regex as re\n",
        "    from nltk.corpus import stopwords\n",
        "    stop_words = stopwords.words('english')\n",
        "    text = str(text)\n",
        "    text = text.lower()\n",
        "    text = text.strip()\n",
        "    #text = text.strip('no')\n",
        "\n",
        "    tokens_without_sw = [word for word in text.split() if not word in stop_words]\n",
        "    text = (\" \").join(tokens_without_sw)\n",
        "    #text = re.sub(r\"\\d+\", \"\", text)\n",
        "    #text = re.sub(r\"[,!.\\/+-=]\", \"\", text)\n",
        "    #text = re.sub(r\"\\b\\w\\b\", \"\", text)\n",
        "    text = re.sub(r\"\\s+\", \" \", text)\n",
        "    #text = text.split()\n",
        "    \n",
        "    return text.strip()"
      ],
      "execution_count": 30,
      "outputs": []
    },
    {
      "cell_type": "code",
      "metadata": {
        "colab": {
          "base_uri": "https://localhost:8080/"
        },
        "id": "dYj1XfFx5iv2",
        "outputId": "2557047d-0a22-4641-d5bc-7dd6af2098fc"
      },
      "source": [
        "#Considering review text where the reviewer has atleast reviewed atleast 200 beers\n",
        "print(beer_data_df.shape)\n",
        "subbeer_data_df = beer_data_df[beer_data_df.groupby('review_profileName').review_profileName.transform('count')>=500].copy() \n",
        "print(subbeer_data_df.shape)\n",
        "\n",
        "#Merge text reviews by each reviewer\n",
        "subbeer_data_df = subbeer_data_df.groupby(['review_profileName'])['review_text'].apply(','.join).reset_index()\n",
        "print(subbeer_data_df.shape)\n",
        "\n"
      ],
      "execution_count": 21,
      "outputs": [
        {
          "output_type": "stream",
          "text": [
            "(508358, 15)\n",
            "(60081, 15)\n",
            "(86, 2)\n"
          ],
          "name": "stdout"
        }
      ]
    },
    {
      "cell_type": "code",
      "metadata": {
        "colab": {
          "base_uri": "https://localhost:8080/"
        },
        "id": "2zSlmvt7bIGZ",
        "outputId": "0c170c41-1515-425e-b529-6c5fc3612a6b"
      },
      "source": [
        "subbeer_data_df2 = subbeer_data_df.copy()\n",
        "\n",
        "#Perform cross join on the same df so that each review text can be compared by every other\n",
        "#new_df = subbeer_data_df.merge(subbeer_data_df, how=\"left\")\n",
        "\n",
        "\n",
        "subbeer_data_df2['key'] = 1\n",
        "subbeer_data_df['key'] = 1\n",
        "  \n",
        "# to obtain the cross join we will merge on \n",
        "# the key and drop it.\n",
        "new_df = pd.merge(subbeer_data_df2, subbeer_data_df, on ='key').drop(\"key\", 1)\n",
        "  \n",
        "print(new_df.shape)\n",
        "print(new_df.columns)"
      ],
      "execution_count": 22,
      "outputs": [
        {
          "output_type": "stream",
          "text": [
            "(7396, 4)\n",
            "Index(['review_profileName_x', 'review_text_x', 'review_profileName_y',\n",
            "       'review_text_y'],\n",
            "      dtype='object')\n"
          ],
          "name": "stdout"
        }
      ]
    },
    {
      "cell_type": "code",
      "metadata": {
        "id": "FPo97_nbYOsQ"
      },
      "source": [
        "cleansingText\n",
        "\n",
        "new_df['review_text_x'] = new_df['review_text_x'].apply(lambda x : cleansingText(x))\n",
        "new_df['review_text_y'] = new_df['review_text_y'].apply(lambda x : cleansingText(x))"
      ],
      "execution_count": 33,
      "outputs": []
    },
    {
      "cell_type": "code",
      "metadata": {
        "colab": {
          "base_uri": "https://localhost:8080/",
          "height": 206
        },
        "id": "Eze6bFpZVqGx",
        "outputId": "ad38723c-88be-4af0-de01-49ff69009657"
      },
      "source": [
        "new_df.head()"
      ],
      "execution_count": 34,
      "outputs": [
        {
          "output_type": "execute_result",
          "data": {
            "text/html": [
              "<div>\n",
              "<style scoped>\n",
              "    .dataframe tbody tr th:only-of-type {\n",
              "        vertical-align: middle;\n",
              "    }\n",
              "\n",
              "    .dataframe tbody tr th {\n",
              "        vertical-align: top;\n",
              "    }\n",
              "\n",
              "    .dataframe thead th {\n",
              "        text-align: right;\n",
              "    }\n",
              "</style>\n",
              "<table border=\"1\" class=\"dataframe\">\n",
              "  <thead>\n",
              "    <tr style=\"text-align: right;\">\n",
              "      <th></th>\n",
              "      <th>review_profileName_x</th>\n",
              "      <th>review_text_x</th>\n",
              "      <th>review_profileName_y</th>\n",
              "      <th>review_text_y</th>\n",
              "    </tr>\n",
              "  </thead>\n",
              "  <tbody>\n",
              "    <tr>\n",
              "      <th>0</th>\n",
              "      <td>BEERchitect</td>\n",
              "      <td>well balanced between caramel maltiness and ci...</td>\n",
              "      <td>BEERchitect</td>\n",
              "      <td>well balanced between caramel maltiness and ci...</td>\n",
              "    </tr>\n",
              "    <tr>\n",
              "      <th>1</th>\n",
              "      <td>BEERchitect</td>\n",
              "      <td>well balanced between caramel maltiness and ci...</td>\n",
              "      <td>Beerandraiderfan</td>\n",
              "      <td>brown in color, somewhere between a porter and...</td>\n",
              "    </tr>\n",
              "    <tr>\n",
              "      <th>2</th>\n",
              "      <td>BEERchitect</td>\n",
              "      <td>well balanced between caramel maltiness and ci...</td>\n",
              "      <td>Bighuge</td>\n",
              "      <td>pours with viscosity noticeable. appearance is...</td>\n",
              "    </tr>\n",
              "    <tr>\n",
              "      <th>3</th>\n",
              "      <td>BEERchitect</td>\n",
              "      <td>well balanced between caramel maltiness and ci...</td>\n",
              "      <td>Billolick</td>\n",
              "      <td>growler filled somewhere i cant remember, on l...</td>\n",
              "    </tr>\n",
              "    <tr>\n",
              "      <th>4</th>\n",
              "      <td>BEERchitect</td>\n",
              "      <td>well balanced between caramel maltiness and ci...</td>\n",
              "      <td>Bitterbill</td>\n",
              "      <td>12oz can received today by the great trader kn...</td>\n",
              "    </tr>\n",
              "  </tbody>\n",
              "</table>\n",
              "</div>"
            ],
            "text/plain": [
              "  review_profileName_x  ...                                      review_text_y\n",
              "0          BEERchitect  ...  well balanced between caramel maltiness and ci...\n",
              "1          BEERchitect  ...  brown in color, somewhere between a porter and...\n",
              "2          BEERchitect  ...  pours with viscosity noticeable. appearance is...\n",
              "3          BEERchitect  ...  growler filled somewhere i cant remember, on l...\n",
              "4          BEERchitect  ...  12oz can received today by the great trader kn...\n",
              "\n",
              "[5 rows x 4 columns]"
            ]
          },
          "metadata": {},
          "execution_count": 34
        }
      ]
    },
    {
      "cell_type": "markdown",
      "metadata": {
        "id": "RaIKM7bTXIBH"
      },
      "source": [
        ""
      ]
    },
    {
      "cell_type": "code",
      "metadata": {
        "colab": {
          "base_uri": "https://localhost:8080/"
        },
        "id": "RJ4hiT99YkLa",
        "outputId": "b8ae9a8d-b5fc-4941-c435-f8b0ffbe5992"
      },
      "source": [
        "!pip install strsimpy"
      ],
      "execution_count": 36,
      "outputs": [
        {
          "output_type": "stream",
          "text": [
            "Collecting strsimpy\n",
            "  Downloading strsimpy-0.2.0-py3-none-any.whl (45 kB)\n",
            "\u001b[?25l\r\u001b[K     |███████▏                        | 10 kB 26.0 MB/s eta 0:00:01\r\u001b[K     |██████████████▎                 | 20 kB 31.5 MB/s eta 0:00:01\r\u001b[K     |█████████████████████▍          | 30 kB 34.5 MB/s eta 0:00:01\r\u001b[K     |████████████████████████████▋   | 40 kB 35.4 MB/s eta 0:00:01\r\u001b[K     |████████████████████████████████| 45 kB 3.9 MB/s \n",
            "\u001b[?25hInstalling collected packages: strsimpy\n",
            "Successfully installed strsimpy-0.2.0\n"
          ],
          "name": "stdout"
        }
      ]
    },
    {
      "cell_type": "code",
      "metadata": {
        "id": "zXaL41I0ZYFD"
      },
      "source": [
        "new_df['review_profileName_x'] = new_df.review_profileName_x.astype(str)\n",
        "new_df['review_text_x'] = new_df.review_text_x.astype(str)\n",
        "new_df['review_profileName_y'] = new_df.review_profileName_y.astype(str)\n",
        "new_df['review_text_y'] = new_df.review_text_y.astype(str)"
      ],
      "execution_count": null,
      "outputs": []
    },
    {
      "cell_type": "code",
      "metadata": {
        "colab": {
          "base_uri": "https://localhost:8080/"
        },
        "id": "DZ7DfyWCXIup",
        "outputId": "d40d2a2b-c9ab-4ac1-b0ce-d560499a17e6"
      },
      "source": [
        "from strsimpy.cosine import Cosine\n",
        "cosine = Cosine(2)\n",
        "\n",
        "print('Getting cosine profile . . .')\n",
        "new_df[\"p0\"] = new_df['review_text_x'].apply(lambda s: cosine.get_profile(s))\n",
        "new_df[\"p1\"] = new_df['review_text_y'].apply(lambda s: cosine.get_profile(s))"
      ],
      "execution_count": 49,
      "outputs": [
        {
          "output_type": "stream",
          "text": [
            "Getting cosine profile . . .\n"
          ],
          "name": "stdout"
        }
      ]
    },
    {
      "cell_type": "code",
      "metadata": {
        "colab": {
          "base_uri": "https://localhost:8080/"
        },
        "id": "h7d320cuybH3",
        "outputId": "5fc5955c-5bd0-410e-8f8e-4c71ae2e90ff"
      },
      "source": [
        "print('Computing cosine scores . . .')\n",
        "new_df[\"cosine_similarity_scores\"] = new_df.apply(lambda s: cosine.similarity_profiles(s['p0'],s['p1']),axis=1)"
      ],
      "execution_count": 59,
      "outputs": [
        {
          "output_type": "stream",
          "text": [
            "Computing cosine scores . . .\n"
          ],
          "name": "stdout"
        }
      ]
    },
    {
      "cell_type": "code",
      "metadata": {
        "colab": {
          "base_uri": "https://localhost:8080/"
        },
        "id": "H8Q5ObeHyYLL",
        "outputId": "767377aa-7bdc-48b0-c360-bc8f02c0b766"
      },
      "source": [
        "print('Converting cosine scores to percentage. . .')\n",
        "new_df[\"cosine_similarity_scores\"] = new_df[\"cosine_similarity_scores\"]*100\n",
        "new_df[\"cosine_similarity_scores\"] = new_df[\"cosine_similarity_scores\"].astype(int)\n",
        "print('Done!')"
      ],
      "execution_count": 60,
      "outputs": [
        {
          "output_type": "stream",
          "text": [
            "Converting cosine scores to percentage. . .\n",
            "Done!\n"
          ],
          "name": "stdout"
        }
      ]
    },
    {
      "cell_type": "code",
      "metadata": {
        "colab": {
          "base_uri": "https://localhost:8080/"
        },
        "id": "afItmWr51Ukc",
        "outputId": "55e433fd-b004-4321-e595-a97a7c677c03"
      },
      "source": [
        "print(new_df.shape)\n",
        "new_df = new_df[new_df[\"review_profileName_x\"] != new_df[\"review_profileName_y\"] ]\n",
        "print(new_df.shape)\n"
      ],
      "execution_count": 62,
      "outputs": [
        {
          "output_type": "stream",
          "text": [
            "(7396, 7)\n",
            "(7310, 7)\n"
          ],
          "name": "stdout"
        }
      ]
    },
    {
      "cell_type": "code",
      "metadata": {
        "colab": {
          "base_uri": "https://localhost:8080/",
          "height": 379
        },
        "id": "ZW0K-wg6bJxO",
        "outputId": "0e2b5f13-b0c7-44ad-dfc1-552a02be025f"
      },
      "source": [
        "new_df.head()"
      ],
      "execution_count": 67,
      "outputs": [
        {
          "output_type": "execute_result",
          "data": {
            "text/html": [
              "<div>\n",
              "<style scoped>\n",
              "    .dataframe tbody tr th:only-of-type {\n",
              "        vertical-align: middle;\n",
              "    }\n",
              "\n",
              "    .dataframe tbody tr th {\n",
              "        vertical-align: top;\n",
              "    }\n",
              "\n",
              "    .dataframe thead th {\n",
              "        text-align: right;\n",
              "    }\n",
              "</style>\n",
              "<table border=\"1\" class=\"dataframe\">\n",
              "  <thead>\n",
              "    <tr style=\"text-align: right;\">\n",
              "      <th></th>\n",
              "      <th>review_profileName_x</th>\n",
              "      <th>review_text_x</th>\n",
              "      <th>review_profileName_y</th>\n",
              "      <th>review_text_y</th>\n",
              "      <th>p0</th>\n",
              "      <th>p1</th>\n",
              "      <th>cosine_similarity_scores</th>\n",
              "    </tr>\n",
              "  </thead>\n",
              "  <tbody>\n",
              "    <tr>\n",
              "      <th>1</th>\n",
              "      <td>BEERchitect</td>\n",
              "      <td>well balanced between caramel maltiness and ci...</td>\n",
              "      <td>Beerandraiderfan</td>\n",
              "      <td>brown in color, somewhere between a porter and...</td>\n",
              "      <td>{'we': 2758, 'el': 3571, 'll': 2998, 'l ': 326...</td>\n",
              "      <td>{'br': 493, 'ro': 1678, 'ow': 840, 'wn': 328, ...</td>\n",
              "      <td>97</td>\n",
              "    </tr>\n",
              "    <tr>\n",
              "      <th>2</th>\n",
              "      <td>BEERchitect</td>\n",
              "      <td>well balanced between caramel maltiness and ci...</td>\n",
              "      <td>Bighuge</td>\n",
              "      <td>pours with viscosity noticeable. appearance is...</td>\n",
              "      <td>{'we': 2758, 'el': 3571, 'll': 2998, 'l ': 326...</td>\n",
              "      <td>{'po': 381, 'ou': 2342, 'ur': 756, 'rs': 658, ...</td>\n",
              "      <td>97</td>\n",
              "    </tr>\n",
              "    <tr>\n",
              "      <th>3</th>\n",
              "      <td>BEERchitect</td>\n",
              "      <td>well balanced between caramel maltiness and ci...</td>\n",
              "      <td>Billolick</td>\n",
              "      <td>growler filled somewhere i cant remember, on l...</td>\n",
              "      <td>{'we': 2758, 'el': 3571, 'll': 2998, 'l ': 326...</td>\n",
              "      <td>{'gr': 387, 'ro': 1125, 'ow': 750, 'wl': 94, '...</td>\n",
              "      <td>96</td>\n",
              "    </tr>\n",
              "    <tr>\n",
              "      <th>4</th>\n",
              "      <td>BEERchitect</td>\n",
              "      <td>well balanced between caramel maltiness and ci...</td>\n",
              "      <td>Bitterbill</td>\n",
              "      <td>12oz can received today by the great trader kn...</td>\n",
              "      <td>{'we': 2758, 'el': 3571, 'll': 2998, 'l ': 326...</td>\n",
              "      <td>{'12': 135, '2o': 137, 'oz': 182, 'z ': 177, '...</td>\n",
              "      <td>96</td>\n",
              "    </tr>\n",
              "    <tr>\n",
              "      <th>5</th>\n",
              "      <td>BEERchitect</td>\n",
              "      <td>well balanced between caramel maltiness and ci...</td>\n",
              "      <td>BuckeyeNation</td>\n",
              "      <td>dark honey with the slightest suggestion of or...</td>\n",
              "      <td>{'we': 2758, 'el': 3571, 'll': 2998, 'l ': 326...</td>\n",
              "      <td>{'da': 2053, 'ar': 13417, 'rk': 1433, 'k ': 38...</td>\n",
              "      <td>97</td>\n",
              "    </tr>\n",
              "  </tbody>\n",
              "</table>\n",
              "</div>"
            ],
            "text/plain": [
              "  review_profileName_x  ... cosine_similarity_scores\n",
              "1          BEERchitect  ...                       97\n",
              "2          BEERchitect  ...                       97\n",
              "3          BEERchitect  ...                       96\n",
              "4          BEERchitect  ...                       96\n",
              "5          BEERchitect  ...                       97\n",
              "\n",
              "[5 rows x 7 columns]"
            ]
          },
          "metadata": {},
          "execution_count": 67
        }
      ]
    }
  ]
}